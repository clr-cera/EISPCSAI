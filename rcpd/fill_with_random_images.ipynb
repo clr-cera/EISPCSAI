{
 "cells": [
  {
   "cell_type": "code",
   "execution_count": null,
   "id": "1bf89bde",
   "metadata": {},
   "outputs": [],
   "source": [
    "# copy the random image file to images/ for testing with the names from rcpd_annotation_processed.csv label 2\n",
    "import os\n",
    "import shutil\n",
    "import pandas as pd\n",
    "\n",
    "df = pd.read_csv(\"rcpd_annotation_processed.csv\")\n",
    "if not os.path.exists(\"rcpd/images/\"):\n",
    "    os.makedirs(\"rcpd/images/\")\n",
    "\n",
    "for index, row in df.iterrows():\n",
    "    src = 'random_image.jpg'\n",
    "    dst = f\"images/{row['filename']}\"\n",
    "    shutil.copyfile(src, dst)"
   ]
  }
 ],
 "metadata": {
  "kernelspec": {
   "display_name": "ecsaid (3.10.17)",
   "language": "python",
   "name": "python3"
  },
  "language_info": {
   "codemirror_mode": {
    "name": "ipython",
    "version": 3
   },
   "file_extension": ".py",
   "mimetype": "text/x-python",
   "name": "python",
   "nbconvert_exporter": "python",
   "pygments_lexer": "ipython3",
   "version": "3.10.17"
  }
 },
 "nbformat": 4,
 "nbformat_minor": 5
}
