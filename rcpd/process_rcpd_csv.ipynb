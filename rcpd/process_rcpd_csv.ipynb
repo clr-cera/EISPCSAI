{
 "cells": [
  {
   "cell_type": "code",
   "execution_count": 9,
   "id": "c82801bb",
   "metadata": {},
   "outputs": [],
   "source": [
    "import pandas as pd"
   ]
  },
  {
   "cell_type": "code",
   "execution_count": 10,
   "id": "e19c24fd",
   "metadata": {},
   "outputs": [],
   "source": [
    "df = pd.read_csv('rcpd_annotation_fix.csv')"
   ]
  },
  {
   "cell_type": "code",
   "execution_count": 11,
   "id": "a38db778",
   "metadata": {},
   "outputs": [],
   "source": [
    "# Can you turn the code from polars into pandas?\n",
    "\n",
    "df['min_age'] = None\n",
    "df['min_age'] = df['part_age'].apply(lambda x: min(x.replace('[','').replace(']','').split(',')))\n",
    "# replaces empty values with 999\n",
    "df['min_age'] = df['min_age'].replace('', 999)\n",
    "df['min_age'] = df['min_age'].astype(int)"
   ]
  },
  {
   "cell_type": "code",
   "execution_count": 12,
   "id": "29a6651b",
   "metadata": {},
   "outputs": [],
   "source": [
    "df['img_category'] = 'uncategorized'\n",
    "\n",
    "df.loc[(df['nudity_level'] == 'none') & (df['min_age'] <= 13), 'img_category'] = 'has_children'\n",
    "df.loc[(df['nudity_level'] != 'sex') & (df['min_age']   > 13), 'img_category'] = 'has_adults'\n",
    "df.loc[(df['num_person'] == 0), 'img_category'] = 'has_no_people'\n",
    "df.loc[((df['nudity_level'] == 'seminude')) & (df['min_age'] <= 13), 'img_category'] = 'csai_suspect'\n",
    "df.loc[(df['nudity_level'] == 'sex') | (df['nudity_level'] == 'nude') & (df['min_age'] > 13), 'img_category'] = 'pornography'\n",
    "df.loc[(df['nudity_level'] == 'sex') | (df['nudity_level'] == 'nude') & (df['min_age'] <= 13), 'img_category'] = 'csai'"
   ]
  },
  {
   "cell_type": "code",
   "execution_count": null,
   "id": "30efb1b3",
   "metadata": {},
   "outputs": [
    {
     "data": {
      "text/plain": [
       "img_category\n",
       "csai             1076\n",
       "has_no_people     578\n",
       "pornography       350\n",
       "csai_suspect      228\n",
       "has_children      157\n",
       "has_adults        131\n",
       "Name: count, dtype: int64"
      ]
     },
     "execution_count": 13,
     "metadata": {},
     "output_type": "execute_result"
    }
   ],
   "source": [
    "df['img_category'].value_counts()"
   ]
  },
  {
   "cell_type": "code",
   "execution_count": 14,
   "id": "bef92e00",
   "metadata": {},
   "outputs": [],
   "source": [
    "df.to_csv('rcpd_annotation_processed.csv')"
   ]
  }
 ],
 "metadata": {
  "kernelspec": {
   "display_name": "eisp (3.10.17)",
   "language": "python",
   "name": "python3"
  },
  "language_info": {
   "codemirror_mode": {
    "name": "ipython",
    "version": 3
   },
   "file_extension": ".py",
   "mimetype": "text/x-python",
   "name": "python",
   "nbconvert_exporter": "python",
   "pygments_lexer": "ipython3",
   "version": "3.10.17"
  }
 },
 "nbformat": 4,
 "nbformat_minor": 5
}
